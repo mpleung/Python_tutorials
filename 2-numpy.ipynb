{
  "cells": [
    {
      "cell_type": "markdown",
      "source": [
        "# Numpy Basics\n",
        "\n",
        "Numpy is used to create and operate on numpy arrays, which are basically vectors and matrices.\n",
        "\n",
        "Why use numpy arrays instead of lists? Because lists are not vectors. For instance, the + operator does not add two lists element-wise, as we might expect (remember, lists don't even after to contain numbers). Rather, it just concatenates the two lists together."
      ],
      "metadata": {}
    },
    {
      "cell_type": "code",
      "source": [
        "MyList1 = [1,2,3]\n",
        "MyList2 = [1,0,0]\n",
        "print(MyList1 + MyList2)"
      ],
      "outputs": [
        {
          "output_type": "stream",
          "name": "stdout",
          "text": [
            "[1, 2, 3, 1, 0, 0]\n"
          ]
        }
      ],
      "execution_count": 1,
      "metadata": {
        "execution": {
          "shell.execute_reply": "2021-11-16T05:23:54.951Z",
          "iopub.status.busy": "2021-11-16T05:23:54.966Z",
          "iopub.execute_input": "2021-11-16T05:23:54.975Z",
          "iopub.status.idle": "2021-11-16T05:23:54.991Z"
        }
      }
    },
    {
      "cell_type": "markdown",
      "source": [
        "To actually add the two lists elementwise, we need to import the numpy module."
      ],
      "metadata": {}
    },
    {
      "cell_type": "code",
      "source": [
        "import numpy as np"
      ],
      "outputs": [],
      "execution_count": 2,
      "metadata": {
        "execution": {
          "iopub.status.busy": "2021-11-16T05:23:55.004Z",
          "iopub.execute_input": "2021-11-16T05:23:55.012Z",
          "iopub.status.idle": "2021-11-16T05:23:55.055Z",
          "shell.execute_reply": "2021-11-16T05:23:55.458Z"
        }
      }
    },
    {
      "cell_type": "markdown",
      "source": [
        "To use any function inside the numpy module, we have to add `np.` in front of it. For example, to use the array function, which constructs a numpy array, we use `np.array()`. \n",
        "\n",
        "If we had instead only typed `import numpy`, then we would have to spell out `numpy.array()` instead. We can choose any abbreviation for the package we want, but `np` is traditional.\n",
        "\n",
        "Now we can define two numpy arrays using `MyList1` and `MyList2` and add them properly."
      ],
      "metadata": {}
    },
    {
      "cell_type": "code",
      "source": [
        "x = np.array(MyList1) # to use any numpy functions, need to put 'np.' in front\n",
        "y = np.array(MyList2)\n",
        "print(x+y)"
      ],
      "outputs": [
        {
          "output_type": "stream",
          "name": "stdout",
          "text": [
            "[2 2 3]\n"
          ]
        }
      ],
      "execution_count": 3,
      "metadata": {
        "execution": {
          "iopub.status.busy": "2021-11-16T05:23:55.071Z",
          "iopub.execute_input": "2021-11-16T05:23:55.081Z",
          "iopub.status.idle": "2021-11-16T05:23:55.101Z",
          "shell.execute_reply": "2021-11-16T05:23:55.462Z"
        }
      }
    },
    {
      "cell_type": "markdown",
      "source": [
        "To define matrices, we specify a list of lists."
      ],
      "metadata": {}
    },
    {
      "cell_type": "code",
      "source": [
        "z = np.array([[1,2], [3,4], [4,5]]) # matrices\n",
        "print(z)\n",
        "print(z.shape) # get dimensions\n",
        "print(z.shape[0]) # get number of rows"
      ],
      "outputs": [
        {
          "output_type": "stream",
          "name": "stdout",
          "text": [
            "[[1 2]\n",
            " [3 4]\n",
            " [4 5]]\n",
            "(3, 2)\n",
            "3\n"
          ]
        }
      ],
      "execution_count": 4,
      "metadata": {
        "execution": {
          "iopub.status.busy": "2021-11-16T05:23:55.112Z",
          "iopub.execute_input": "2021-11-16T05:23:55.121Z",
          "iopub.status.idle": "2021-11-16T05:23:55.135Z",
          "shell.execute_reply": "2021-11-16T05:23:55.466Z"
        }
      }
    },
    {
      "cell_type": "code",
      "source": [
        "# convenient functions for initializing matrices\n",
        "a = np.zeros((2,2)) # input is a tuple, which uses parentheses, not a list, which uses brackets\n",
        "print(a)\n",
        "b = np.ones((1,2))\n",
        "print(b)\n",
        "c = np.eye(2)\n",
        "print(c)\n",
        "d = np.random.random((2,2))\n",
        "print(d)"
      ],
      "outputs": [
        {
          "output_type": "stream",
          "name": "stdout",
          "text": [
            "[[0. 0.]\n",
            " [0. 0.]]\n",
            "[[1. 1.]]\n",
            "[[1. 0.]\n",
            " [0. 1.]]\n",
            "[[0.96087023 0.32015994]\n",
            " [0.60677924 0.9642009 ]]\n"
          ]
        }
      ],
      "execution_count": 5,
      "metadata": {
        "execution": {
          "iopub.status.busy": "2021-11-16T05:23:55.145Z",
          "iopub.execute_input": "2021-11-16T05:23:55.153Z",
          "iopub.status.idle": "2021-11-16T05:23:55.166Z",
          "shell.execute_reply": "2021-11-16T05:23:55.470Z"
        }
      }
    },
    {
      "cell_type": "code",
      "source": [
        "# side note: how to set seeds\n",
        "np.random.seed(seed=0)"
      ],
      "outputs": [],
      "execution_count": 6,
      "metadata": {
        "execution": {
          "iopub.status.busy": "2021-11-16T05:23:55.175Z",
          "iopub.execute_input": "2021-11-16T05:23:55.182Z",
          "iopub.status.idle": "2021-11-16T05:23:55.192Z",
          "shell.execute_reply": "2021-11-16T05:23:55.474Z"
        }
      }
    },
    {
      "cell_type": "markdown",
      "source": [
        "## Matrix Math\n",
        "\n",
        "Component-wise operations are the same as for scalars:"
      ],
      "metadata": {}
    },
    {
      "cell_type": "code",
      "source": [
        "x = np.random.random((2,2))\n",
        "y = np.random.random((2,2))\n",
        "print(x+y)\n",
        "print(x-y)\n",
        "print(x*y)\n",
        "print(x/y) # note these are all elementwise"
      ],
      "outputs": [
        {
          "output_type": "stream",
          "name": "stdout",
          "text": [
            "[[0.9724683  1.36108348]\n",
            " [1.04035059 1.43665618]]\n",
            "[[ 0.1251587   0.06929525]\n",
            " [ 0.16517616 -0.34688982]]\n",
            "[[0.23250747 0.4619366 ]\n",
            " [0.26376154 0.48591211]]\n",
            "[[1.29542615 1.10728578]\n",
            " [1.37747027 0.61101108]]\n"
          ]
        }
      ],
      "execution_count": 7,
      "metadata": {
        "execution": {
          "iopub.status.busy": "2021-11-16T05:23:55.202Z",
          "iopub.execute_input": "2021-11-16T05:23:55.207Z",
          "iopub.status.idle": "2021-11-16T05:23:55.220Z",
          "shell.execute_reply": "2021-11-16T05:23:55.479Z"
        }
      }
    },
    {
      "cell_type": "markdown",
      "source": [
        "Some special functions for taking square-roots or raising to a certain power:"
      ],
      "metadata": {}
    },
    {
      "cell_type": "code",
      "source": [
        "print(np.sqrt(x))\n",
        "print(np.power(x,2))"
      ],
      "outputs": [
        {
          "output_type": "stream",
          "name": "stdout",
          "text": [
            "[[0.74081948 0.84568869]\n",
            " [0.77637837 0.73816203]]\n",
            "[[0.30119626 0.51149583]\n",
            " [0.36332369 0.29689768]]\n"
          ]
        }
      ],
      "execution_count": 8,
      "metadata": {
        "execution": {
          "iopub.status.busy": "2021-11-16T05:23:55.230Z",
          "iopub.execute_input": "2021-11-16T05:23:55.236Z",
          "iopub.status.idle": "2021-11-16T05:23:55.249Z",
          "shell.execute_reply": "2021-11-16T05:23:55.482Z"
        }
      }
    },
    {
      "cell_type": "markdown",
      "source": [
        "Important matrix algebra functions:"
      ],
      "metadata": {}
    },
    {
      "cell_type": "code",
      "source": [
        "print(x.dot(y)) # dot product\n",
        "print(np.linalg.inv(x)) # inverse\n",
        "print(x.T) # transpose"
      ],
      "outputs": [
        {
          "output_type": "stream",
          "name": "stdout",
          "text": [
            "[[0.5454652  0.99226198]\n",
            " [0.49379751 0.87523343]]\n",
            "[[-4.12631777  5.41602068]\n",
            " [ 4.5646357  -4.15608149]]\n",
            "[[0.5488135  0.60276338]\n",
            " [0.71518937 0.54488318]]\n"
          ]
        }
      ],
      "execution_count": 9,
      "metadata": {
        "execution": {
          "iopub.status.busy": "2021-11-16T05:23:55.258Z",
          "iopub.execute_input": "2021-11-16T05:23:55.264Z",
          "iopub.status.idle": "2021-11-16T05:23:55.277Z",
          "shell.execute_reply": "2021-11-16T05:23:55.485Z"
        }
      }
    },
    {
      "cell_type": "markdown",
      "source": [
        "**Exercise:** Let x be a random 100x3 matrix and y a random 100x1 vector. Print the OLS estimator of a regression of y on x."
      ],
      "metadata": {}
    },
    {
      "cell_type": "code",
      "source": [],
      "outputs": [],
      "execution_count": null,
      "metadata": {}
    },
    {
      "cell_type": "markdown",
      "source": [
        "## Summary Statisics"
      ],
      "metadata": {}
    },
    {
      "cell_type": "code",
      "source": [
        "x = np.random.random(100)\n",
        "print(x.mean())\n",
        "print(x.std())\n",
        "print(x.max())\n",
        "print(x.min())"
      ],
      "outputs": [
        {
          "output_type": "stream",
          "name": "stdout",
          "text": [
            "0.4710323678966207\n",
            "0.29141369298399705\n",
            "0.9883738380592262\n",
            "0.004695476192547066\n"
          ]
        }
      ],
      "execution_count": 10,
      "metadata": {
        "execution": {
          "iopub.status.busy": "2021-11-16T05:23:55.288Z",
          "iopub.execute_input": "2021-11-16T05:23:55.297Z",
          "iopub.status.idle": "2021-11-16T05:23:55.316Z",
          "shell.execute_reply": "2021-11-16T05:23:55.490Z"
        }
      }
    },
    {
      "cell_type": "markdown",
      "source": [
        "## Slicing\n",
        "\n",
        "This is the same as for lists."
      ],
      "metadata": {}
    },
    {
      "cell_type": "code",
      "source": [
        "print(z)\n",
        "print(\"{},{}\".format(z[0,0],z[0,1]))\n",
        "print(z[0,0:2])\n",
        "print(z[0,:])\n",
        "print(z[0:2,0:2])\n",
        "print(z[:,0].shape)"
      ],
      "outputs": [
        {
          "output_type": "stream",
          "name": "stdout",
          "text": [
            "[[1 2]\n",
            " [3 4]\n",
            " [4 5]]\n",
            "1,2\n",
            "[1 2]\n",
            "[1 2]\n",
            "[[1 2]\n",
            " [3 4]]\n",
            "(3,)\n"
          ]
        }
      ],
      "execution_count": 11,
      "metadata": {
        "execution": {
          "iopub.status.busy": "2021-11-16T05:23:55.323Z",
          "iopub.execute_input": "2021-11-16T05:23:55.329Z",
          "iopub.status.idle": "2021-11-16T05:23:55.344Z",
          "shell.execute_reply": "2021-11-16T05:23:55.493Z"
        }
      }
    },
    {
      "cell_type": "markdown",
      "source": [
        "Notice that Python annoyingly converts vectors into horizontal form. Sometimes we need vectors to be vertical. Suppose I want to add 1 to the first row of z and 7 to the second."
      ],
      "metadata": {}
    },
    {
      "cell_type": "code",
      "source": [
        "AddMe = np.array([1,7])\n",
        "print(AddMe)\n",
        "print(z[0:2,0:2] + AddMe)\n",
        "print(AddMe[:,np.newaxis]) # convert to vertical vector\n",
        "print(z[0:2,0:2] + AddMe[:,np.newaxis])"
      ],
      "outputs": [
        {
          "output_type": "stream",
          "name": "stdout",
          "text": [
            "[1 7]\n",
            "[[ 2  9]\n",
            " [ 4 11]]\n",
            "[[1]\n",
            " [7]]\n",
            "[[ 2  3]\n",
            " [10 11]]\n"
          ]
        }
      ],
      "execution_count": 12,
      "metadata": {
        "execution": {
          "iopub.status.busy": "2021-11-16T05:23:55.356Z",
          "iopub.execute_input": "2021-11-16T05:23:55.366Z",
          "iopub.status.idle": "2021-11-16T05:23:55.384Z",
          "shell.execute_reply": "2021-11-16T05:23:55.497Z"
        }
      }
    },
    {
      "cell_type": "markdown",
      "source": [
        "Numpy has functions for generating random numbers. For other distributions, look up `np.random`."
      ],
      "metadata": {}
    },
    {
      "cell_type": "code",
      "source": [
        "x = np.random.random(5)\n",
        "print(x)"
      ],
      "outputs": [
        {
          "output_type": "stream",
          "name": "stdout",
          "text": [
            "[0.22308163 0.95274901 0.44712538 0.84640867 0.69947928]\n"
          ]
        }
      ],
      "execution_count": 13,
      "metadata": {
        "execution": {
          "iopub.status.busy": "2021-11-16T05:23:55.398Z",
          "iopub.execute_input": "2021-11-16T05:23:55.405Z",
          "iopub.status.idle": "2021-11-16T05:23:55.420Z",
          "shell.execute_reply": "2021-11-16T05:23:55.500Z"
        }
      }
    },
    {
      "cell_type": "markdown",
      "source": [
        "Here's another slicing trick. Suppose we wanted to print elements of x that are above 0.5."
      ],
      "metadata": {}
    },
    {
      "cell_type": "code",
      "source": [
        "x = np.random.random(5)\n",
        "print(x)\n",
        "\n",
        "indices = x>0.5 # creates a vector of booleans\n",
        "print(indices)\n",
        "\n",
        "print(x[indices]) # grabs only components of x whose components in indices are True"
      ],
      "outputs": [
        {
          "output_type": "stream",
          "name": "stdout",
          "text": [
            "[0.29743695 0.81379782 0.39650574 0.8811032  0.58127287]\n",
            "[False  True False  True  True]\n",
            "[0.81379782 0.8811032  0.58127287]\n"
          ]
        }
      ],
      "execution_count": 14,
      "metadata": {
        "execution": {
          "iopub.status.busy": "2021-11-16T05:23:55.430Z",
          "iopub.execute_input": "2021-11-16T05:23:55.437Z",
          "iopub.status.idle": "2021-11-16T05:23:55.452Z",
          "shell.execute_reply": "2021-11-16T05:23:55.504Z"
        }
      }
    },
    {
      "cell_type": "markdown",
      "source": [
        "**Exercise:** Print the components of x such that their squares are less than 0.25."
      ],
      "metadata": {}
    },
    {
      "cell_type": "code",
      "source": [],
      "outputs": [],
      "execution_count": null,
      "metadata": {
        "collapsed": true,
        "jupyter": {
          "source_hidden": false,
          "outputs_hidden": false
        },
        "nteract": {
          "transient": {
            "deleting": false
          }
        }
      }
    }
  ],
  "metadata": {
    "kernelspec": {
      "display_name": "Python 3",
      "language": "python",
      "name": "python3"
    },
    "language_info": {
      "name": "python",
      "version": "3.9.6",
      "mimetype": "text/x-python",
      "codemirror_mode": {
        "name": "ipython",
        "version": 3
      },
      "pygments_lexer": "ipython3",
      "nbconvert_exporter": "python",
      "file_extension": ".py"
    },
    "nteract": {
      "version": "0.28.0"
    }
  },
  "nbformat": 4,
  "nbformat_minor": 2
}