{
 "cells": [
  {
   "cell_type": "markdown",
   "metadata": {},
   "source": [
    "# Numpy Basics\n",
    "\n",
    "Numpy is used to create and operate on numpy arrays, which are basically vectors and matrices.\n",
    "\n",
    "Why use numpy arrays instead of lists? Because lists are not vectors. For instance, the + operator does not add two lists element-wise, as we might expect (remember, lists don't even after to contain numbers). Rather, it just concatenates the two lists together."
   ]
  },
  {
   "cell_type": "code",
   "execution_count": null,
   "metadata": {},
   "outputs": [],
   "source": [
    "MyList1 = [1,2,3]\n",
    "MyList2 = [1,0,0]\n",
    "print(MyList1 + MyList2)"
   ]
  },
  {
   "cell_type": "markdown",
   "metadata": {},
   "source": [
    "To actually add the two lists elementwise, we import the numpy package and define two numpy arrays using MyList1 and MyList2."
   ]
  },
  {
   "cell_type": "code",
   "execution_count": null,
   "metadata": {},
   "outputs": [],
   "source": [
    "import numpy as np\n",
    "\n",
    "x = np.array(MyList1) # to use any numpy functions, need to put 'np.' in front\n",
    "y = np.array(MyList2)\n",
    "print(x+y)"
   ]
  },
  {
   "cell_type": "markdown",
   "metadata": {},
   "source": [
    "To define matrices, we specify a list of lists."
   ]
  },
  {
   "cell_type": "code",
   "execution_count": null,
   "metadata": {},
   "outputs": [],
   "source": [
    "z = np.array([[1,2], [3,4], [4,5]]) # matrices\n",
    "print(z)\n",
    "print(z.shape) # get dimensions\n",
    "print(z.shape[0]) # get number of rows"
   ]
  },
  {
   "cell_type": "code",
   "execution_count": null,
   "metadata": {},
   "outputs": [],
   "source": [
    "# convenient functions for initializing matrices\n",
    "a = np.zeros((2,2)) # input is a tuple, which uses parentheses, not a list, which uses brackets\n",
    "print(a)\n",
    "b = np.ones((1,2))\n",
    "print(b)\n",
    "c = np.eye(2)\n",
    "print(c)\n",
    "d = np.random.random((2,2))\n",
    "print(d)"
   ]
  },
  {
   "cell_type": "code",
   "execution_count": null,
   "metadata": {},
   "outputs": [],
   "source": [
    "# side note: how to set seeds\n",
    "np.random.seed(seed=0)"
   ]
  },
  {
   "cell_type": "markdown",
   "metadata": {},
   "source": [
    "## Matrix Math\n",
    "\n",
    "Component-wise operations are the same as for scalars:"
   ]
  },
  {
   "cell_type": "code",
   "execution_count": null,
   "metadata": {},
   "outputs": [],
   "source": [
    "x = np.random.random((2,2))\n",
    "y = np.random.random((2,2))\n",
    "print(x+y)\n",
    "print(x-y)\n",
    "print(x*y)\n",
    "print(x/y) # note these are all elementwise"
   ]
  },
  {
   "cell_type": "markdown",
   "metadata": {},
   "source": [
    "Some special functions for taking square-roots or raising to a certain power:"
   ]
  },
  {
   "cell_type": "code",
   "execution_count": null,
   "metadata": {},
   "outputs": [],
   "source": [
    "print(np.sqrt(x))\n",
    "print(np.power(x,2))"
   ]
  },
  {
   "cell_type": "markdown",
   "metadata": {},
   "source": [
    "Important matrix algebra functions:"
   ]
  },
  {
   "cell_type": "code",
   "execution_count": null,
   "metadata": {},
   "outputs": [],
   "source": [
    "print(x.dot(y)) # dot product\n",
    "print(np.linalg.inv(x)) # inverse\n",
    "print(x.T) # transpose"
   ]
  },
  {
   "cell_type": "markdown",
   "metadata": {},
   "source": [
    "**Exercise:** Let x be a random 100x3 matrix and y a random 100x1 vector. Print the OLS estimator of a regression of y on x."
   ]
  },
  {
   "cell_type": "code",
   "execution_count": null,
   "metadata": {},
   "outputs": [],
   "source": []
  },
  {
   "cell_type": "markdown",
   "metadata": {},
   "source": [
    "## Summary Statisics"
   ]
  },
  {
   "cell_type": "code",
   "execution_count": null,
   "metadata": {},
   "outputs": [],
   "source": [
    "x = np.random.random(100)\n",
    "print(x.mean())\n",
    "print(x.std())\n",
    "print(x.max())\n",
    "print(x.min())"
   ]
  },
  {
   "cell_type": "markdown",
   "metadata": {},
   "source": [
    "## Slicing\n",
    "\n",
    "This is the same as for lists."
   ]
  },
  {
   "cell_type": "code",
   "execution_count": null,
   "metadata": {},
   "outputs": [],
   "source": [
    "print(z)\n",
    "print(\"{},{}\".format(z[0,0],z[0,1]))\n",
    "print(z[0,0:2])\n",
    "print(z[0,:])\n",
    "print(z[0:2,0:2])\n",
    "print(z[:,0].shape)"
   ]
  },
  {
   "cell_type": "markdown",
   "metadata": {},
   "source": [
    "Notice that Python annoyingly converts vectors into horizontal form. Sometimes we need vectors to be vertical. Suppose I want to add 1 to the first row of z and 7 to the second."
   ]
  },
  {
   "cell_type": "code",
   "execution_count": null,
   "metadata": {},
   "outputs": [],
   "source": [
    "AddMe = np.array([1,7])\n",
    "print(AddMe)\n",
    "print(z[0:2,0:2] + AddMe)\n",
    "print(AddMe[:,np.newaxis]) # convert to vertical vector\n",
    "print(z[0:2,0:2] + AddMe[:,np.newaxis])"
   ]
  },
  {
   "cell_type": "markdown",
   "metadata": {},
   "source": [
    "Numpy has functions for generating random numbers. For other distributions, look up ${\\tt np.random}$."
   ]
  },
  {
   "cell_type": "code",
   "execution_count": null,
   "metadata": {},
   "outputs": [],
   "source": [
    "x = np.random.random(5)\n",
    "print(x)"
   ]
  },
  {
   "cell_type": "markdown",
   "metadata": {},
   "source": [
    "Here's another slicing trick. Suppose we wanted to print elements of x that are above 0.5."
   ]
  },
  {
   "cell_type": "code",
   "execution_count": null,
   "metadata": {},
   "outputs": [],
   "source": [
    "x = np.random.random(5)\n",
    "print(x)\n",
    "\n",
    "indices = x>0.5 # creates a vector of booleans\n",
    "print(indices)\n",
    "\n",
    "print(x[indices]) # grabs only components of x whose components in indices are True"
   ]
  },
  {
   "cell_type": "markdown",
   "metadata": {},
   "source": [
    "**Exercise:** Print the components of x such that their squares are less than 0.25."
   ]
  },
  {
   "cell_type": "code",
   "execution_count": null,
   "metadata": {},
   "outputs": [],
   "source": []
  }
 ],
 "metadata": {
  "kernelspec": {
   "display_name": "Python 3",
   "language": "python",
   "name": "python3"
  },
  "language_info": {
   "codemirror_mode": {
    "name": "ipython",
    "version": 2
   },
   "file_extension": ".py",
   "mimetype": "text/x-python",
   "name": "python",
   "nbconvert_exporter": "python",
   "pygments_lexer": "ipython2",
   "version": "2.7.16"
  }
 },
 "nbformat": 4,
 "nbformat_minor": 2
}
