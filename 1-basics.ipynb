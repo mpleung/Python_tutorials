{
 "cells": [
  {
   "cell_type": "markdown",
   "metadata": {},
   "source": [
    "# Python Basics\n",
    "\n",
    "(for Python 3)\n",
    "\n",
    "Python is a popular and convenient high-level language. Unlike C, it automatically recognizes types, and Python code doesn't need to be compiled. Its syntax is easy to understand and reads like pseudo-code. A large suite of convenient statistical modules are available.\n",
    "\n",
    "## Hello World\n",
    "\n",
    "Start by creating a file on your computer, and name it, say, ${\\tt hello.py}$. On Windows you can use notepad. On Mac, use TextEdit and click Format->Make Plain Text.\n",
    "\n",
    "Include the following line in your file: ${\\tt print(\"Hello, world!\")}$. Save your file. Then in command line, execute the file by typing ${\\tt python}$ ${\\tt hello.py}$. You should see the output of the following:"
   ]
  },
  {
   "cell_type": "code",
   "execution_count": null,
   "metadata": {},
   "outputs": [],
   "source": [
    "print(\"Hello, world!\")"
   ]
  },
  {
   "cell_type": "markdown",
   "metadata": {},
   "source": [
    "In the rest of this tutorial, you can execute codeblocks by highlighting them and then hitting Shift+Enter. You can also add your own code into the codeblocks.\n",
    "\n",
    "In normal use, you will be running Python interactively, which can be done using ipython. You open this program by typing ${\\tt ipython}$ into command line. Then directly type your Python commands there. \n",
    "\n",
    "## Printing Output\n",
    "\n",
    "Let's define a variable y and print its value using the ${\\tt print}$ statement."
   ]
  },
  {
   "cell_type": "code",
   "execution_count": null,
   "metadata": {},
   "outputs": [],
   "source": [
    "y = 2.541\n",
    "print(y)"
   ]
  },
  {
   "cell_type": "markdown",
   "metadata": {},
   "source": [
    "## Strings\n",
    "\n",
    "Strings need to be delimited with quotes. You can use single or double quotes.\n",
    "\n",
    "To concatenate two strings, we use the + operator."
   ]
  },
  {
   "cell_type": "code",
   "execution_count": null,
   "metadata": {},
   "outputs": [],
   "source": [
    "directory = '/home/rcf-proj/'\n",
    "user = \"trojan1\"\n",
    "print(directory+user)"
   ]
  },
  {
   "cell_type": "markdown",
   "metadata": {},
   "source": [
    "## Basic Math Operations"
   ]
  },
  {
   "cell_type": "code",
   "execution_count": null,
   "metadata": {},
   "outputs": [],
   "source": [
    "x = 3\n",
    "print(x + 1)\n",
    "print(x - 1)\n",
    "print(x * 2)\n",
    "print(x / 2)\n",
    "print(x ** 2) # exponentiation"
   ]
  },
  {
   "cell_type": "markdown",
   "metadata": {},
   "source": [
    "**Exercise:** redefine x to be its current value plus one. Print it."
   ]
  },
  {
   "cell_type": "code",
   "execution_count": null,
   "metadata": {},
   "outputs": [],
   "source": []
  },
  {
   "cell_type": "markdown",
   "metadata": {},
   "source": [
    "Some convenient syntax:"
   ]
  },
  {
   "cell_type": "code",
   "execution_count": null,
   "metadata": {},
   "outputs": [],
   "source": [
    "print(x)\n",
    "x += 1\n",
    "print(x)\n",
    "x -= 1\n",
    "print(x)\n",
    "x *= 2\n",
    "print(x)\n",
    "x /= 2\n",
    "print(x)\n",
    "x **= 2\n",
    "print(x)"
   ]
  },
  {
   "cell_type": "markdown",
   "metadata": {},
   "source": [
    "## Lists\n",
    "\n",
    "A Python list is a container, an object use to store collections of other objects."
   ]
  },
  {
   "cell_type": "code",
   "execution_count": null,
   "metadata": {},
   "outputs": [],
   "source": [
    "MyList = [1,2,3]\n",
    "print(MyList)"
   ]
  },
  {
   "cell_type": "markdown",
   "metadata": {},
   "source": [
    "A very useful function is the ${\\tt range()}$ function, which generates a list of integers."
   ]
  },
  {
   "cell_type": "code",
   "execution_count": null,
   "metadata": {},
   "outputs": [],
   "source": [
    "MyList = range(3)\n",
    "print(MyList)"
   ]
  },
  {
   "cell_type": "markdown",
   "metadata": {},
   "source": [
    "Note that Python is a **zero-indexed** language. That basically means everything starts at 0 rather than 1, including range."
   ]
  },
  {
   "cell_type": "code",
   "execution_count": null,
   "metadata": {},
   "outputs": [],
   "source": [
    "print(len(MyList)) # outputs length of a list"
   ]
  },
  {
   "cell_type": "markdown",
   "metadata": {},
   "source": [
    "The general syntax for ${\\tt range()}$ is ${\\tt range(start,stop,step)}$, where start and step are optional."
   ]
  },
  {
   "cell_type": "code",
   "execution_count": null,
   "metadata": {},
   "outputs": [],
   "source": [
    "print(range(0,3,1))\n",
    "print(range(0,5,2))\n",
    "print(range(5,-1,-1))"
   ]
  },
  {
   "cell_type": "markdown",
   "metadata": {},
   "source": [
    "**Exercise:** Define a new list equal to [0, 2, 4, ..., 2*a] where a is the current length of MyList. Use the commands just learned; do not hard-code the actual current length of MyList."
   ]
  },
  {
   "cell_type": "code",
   "execution_count": null,
   "metadata": {},
   "outputs": [],
   "source": []
  },
  {
   "cell_type": "markdown",
   "metadata": {},
   "source": [
    "Lists are **not** vectors. For one, they can contain types other than ints and floats."
   ]
  },
  {
   "cell_type": "code",
   "execution_count": null,
   "metadata": {},
   "outputs": [],
   "source": [
    "MyList.append('what are you looking at?')\n",
    "print(MyList)"
   ]
  },
  {
   "cell_type": "markdown",
   "metadata": {},
   "source": [
    "In fact you can have lists of lists.\n",
    "\n",
    "What you'll probably end up doing most with lists is storing stuff in them and then slicing them (grabbing subsets of them)."
   ]
  },
  {
   "cell_type": "code",
   "execution_count": null,
   "metadata": {},
   "outputs": [],
   "source": [
    "MyList = range(3)\n",
    "print(MyList)\n",
    "\n",
    "# print first and second elements\n",
    "print(MyList[0:2]) # remember zero indexing\n",
    "\n",
    "# print all but the zeroth element\n",
    "print(MyList[1:])\n",
    "\n",
    "# redefine the first and second elements\n",
    "MyList[0:2] = [9,10]\n",
    "print(MyList)"
   ]
  },
  {
   "cell_type": "markdown",
   "metadata": {},
   "source": [
    "One more thing about the print command. There's convenient syntax for inserting variables into the middle of the statement you want to print."
   ]
  },
  {
   "cell_type": "code",
   "execution_count": null,
   "metadata": {},
   "outputs": [],
   "source": [
    "MyList = range(3)\n",
    "# print the first and third elements of MyList\n",
    "print('The first element of MyList is {}.\\nThe third element is {}.'.format(MyList[0],MyList[2]))"
   ]
  },
  {
   "cell_type": "markdown",
   "metadata": {},
   "source": [
    "**Exercise:** Define a list of two elements, where the first element is the integer 2, and the second is the string \"Number\". Use this list to print the statement \"Number: 2.\""
   ]
  },
  {
   "cell_type": "code",
   "execution_count": null,
   "metadata": {},
   "outputs": [],
   "source": []
  },
  {
   "cell_type": "markdown",
   "metadata": {},
   "source": [
    "## Conditionals\n",
    "\n",
    "If-else statements require four-space indentation. This will be the same when using for loops and defining functions."
   ]
  },
  {
   "cell_type": "code",
   "execution_count": null,
   "metadata": {},
   "outputs": [],
   "source": [
    "x = 3\n",
    "\n",
    "if x==3:\n",
    "    print(\"Yes\")\n",
    "else:\n",
    "    print(\"No\")"
   ]
  },
  {
   "cell_type": "markdown",
   "metadata": {},
   "source": [
    "What's really going on is \"x==3\" returns a boolean, which in this case is equal to True. When the condition is true, then the if statement executes.\n",
    "\n",
    "Note that, as in most other programming languages, we use == to obtain a boolean (True/False variable). In contrast, a single = is used to set the value of a variable."
   ]
  },
  {
   "cell_type": "code",
   "execution_count": null,
   "metadata": {},
   "outputs": [],
   "source": [
    "y = x==3\n",
    "print(y)\n",
    "    \n",
    "z = False\n",
    "\n",
    "if z:\n",
    "    print(\"Yes\")\n",
    "else:\n",
    "    print(\"No\")"
   ]
  },
  {
   "cell_type": "markdown",
   "metadata": {},
   "source": [
    "Here are some other examples:"
   ]
  },
  {
   "cell_type": "code",
   "execution_count": null,
   "metadata": {},
   "outputs": [],
   "source": [
    "print(\"x={}, y={}\".format(x,y))\n",
    "\n",
    "if x==3 and y==0: print(\"Both\") # no need to indent if you just have \n",
    "                                # one line following the if statement\n",
    "if x==3 or y==1: print(\"One\")\n",
    "\n",
    "if x!=4: print(\"Not\")\n",
    "    \n",
    "if not y==1: print(\"Also not\")"
   ]
  },
  {
   "cell_type": "markdown",
   "metadata": {},
   "source": [
    "**Exercise:** define a variable ${\\tt y}$ to be equal to 1 if ${\\tt x}$ equals 4, otherwise y equals 0."
   ]
  },
  {
   "cell_type": "code",
   "execution_count": null,
   "metadata": {},
   "outputs": [],
   "source": []
  },
  {
   "cell_type": "markdown",
   "metadata": {},
   "source": [
    "We use ${\\tt else if}$, which can be shortened to ${\\tt elif}$ to expand the number of cases."
   ]
  },
  {
   "cell_type": "code",
   "execution_count": null,
   "metadata": {},
   "outputs": [],
   "source": [
    "x = 3\n",
    "\n",
    "if x==1:\n",
    "    y = 'a'\n",
    "elif x==2:\n",
    "    y = 'b'\n",
    "else:\n",
    "    y = 'c'\n",
    "\n",
    "print(y)"
   ]
  },
  {
   "cell_type": "markdown",
   "metadata": {},
   "source": [
    "## For Loops\n",
    "\n",
    "This is the typical syntax for a for-loop. Note the four-space indent."
   ]
  },
  {
   "cell_type": "code",
   "execution_count": null,
   "metadata": {},
   "outputs": [],
   "source": [
    "for i in range(3):\n",
    "    print(i)"
   ]
  },
  {
   "cell_type": "markdown",
   "metadata": {},
   "source": [
    "A for loop doesn't have to iterate over integers."
   ]
  },
  {
   "cell_type": "code",
   "execution_count": null,
   "metadata": {},
   "outputs": [],
   "source": [
    "MyList = ['a','b','c']\n",
    "\n",
    "for i in MyList:\n",
    "    print(i)"
   ]
  },
  {
   "cell_type": "markdown",
   "metadata": {},
   "source": [
    "**Exercise:** Define MyList = ['a','b','c']. Write a for-loop that for each element i of MyList prints \"i: MyList[i]\""
   ]
  },
  {
   "cell_type": "code",
   "execution_count": null,
   "metadata": {},
   "outputs": [],
   "source": []
  },
  {
   "cell_type": "markdown",
   "metadata": {},
   "source": [
    "The ${\\tt enumerate()}$ function is very convenient."
   ]
  },
  {
   "cell_type": "code",
   "execution_count": null,
   "metadata": {},
   "outputs": [],
   "source": [
    "for i,x in enumerate(MyList):\n",
    "    print(\"{}: {}\".format(i,x))"
   ]
  },
  {
   "cell_type": "markdown",
   "metadata": {},
   "source": [
    "**Exercise:** Define MyList to be a list of five consecutive integers starting at 0. Construct a new list whose elements are equal to the square of the respective element of MyList. Note: you initialize an empty list as follows: MyNewList = []."
   ]
  },
  {
   "cell_type": "code",
   "execution_count": null,
   "metadata": {},
   "outputs": [],
   "source": []
  },
  {
   "cell_type": "markdown",
   "metadata": {},
   "source": [
    "A cool aspect of Python is something called list comprehension."
   ]
  },
  {
   "cell_type": "code",
   "execution_count": null,
   "metadata": {},
   "outputs": [],
   "source": [
    "ListShortcut = [5+i for i in MyList]\n",
    "print(ListShortcut)\n",
    "\n",
    "# What if I want the same thing but excluding the odd elements of MyList?\n",
    "print([5+i for i in MyList if i%2==0])\n",
    "# the operator % is the 'modulo operator' that returns remainders"
   ]
  },
  {
   "cell_type": "markdown",
   "metadata": {},
   "source": [
    "## Functions\n",
    "\n",
    "This is the syntax for defining a function. Again, note the four-space indent."
   ]
  },
  {
   "cell_type": "code",
   "execution_count": null,
   "metadata": {},
   "outputs": [],
   "source": [
    "def CubeIt(x):\n",
    "    return x**3\n",
    "\n",
    "x = 2\n",
    "print(CubeIt(x))"
   ]
  },
  {
   "cell_type": "markdown",
   "metadata": {},
   "source": [
    "**Exercise:** The purpose of this exercise is to demonstrate how to create a file of functions and import the functions into your main run file.\n",
    "1. Open your system text editor. Use it to create a new Python file called \"functions.py\" and paste the code for CubeIt above. (In Wiindows, you can use notepad. In MacOS, you can use TextEdit. Click Format --> Make Plain Text before saving as functions.py.)\n",
    "2. Create a new Python file called \"main.py\", and at the top of the file, type  'from functions import \\*'.\n",
    "3. In main.py, print the third power of 2 using CubeIt. \n",
    "4. Execute main.py."
   ]
  }
 ],
 "metadata": {
  "kernelspec": {
   "display_name": "Python 3",
   "language": "python",
   "name": "python3"
  },
  "language_info": {
   "codemirror_mode": {
    "name": "ipython",
    "version": 2
   },
   "file_extension": ".py",
   "mimetype": "text/x-python",
   "name": "python",
   "nbconvert_exporter": "python",
   "pygments_lexer": "ipython2",
   "version": "2.7.16"
  }
 },
 "nbformat": 4,
 "nbformat_minor": 2
}
