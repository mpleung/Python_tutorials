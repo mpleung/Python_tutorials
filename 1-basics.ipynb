{
  "cells": [
    {
      "cell_type": "markdown",
      "source": [
        "# Python Basics\n",
        "\n",
        "(for Python 3)\n",
        "\n",
        "Python is a popular and convenient high-level language. Unlike C, it automatically recognizes types, and Python code doesn't need to be compiled. Its syntax is easy to understand and reads like pseudo-code. A large suite of convenient statistical modules are available.\n",
        "\n",
        "## Hello World\n",
        "\n",
        "If you have chosen to use Python only within [nteract](https://nteract.io/desktop), you can ignore this paragraph. If you instead have Python installed on your machine, start by creating a file on your computer, and name it, say, `hello.py`. This functions the same as a Stata .do file. On Windows you can use notepad. On Mac, use TextEdit and click Format -> Make Plain Text. Include the following line in your file: `print(\"Hello, world!\")`. Save your file. Then in command line, execute the file by typing `python hello.py`. You should see the output of the following:"
      ],
      "metadata": {}
    },
    {
      "cell_type": "code",
      "source": [
        "print(\"Hello, world!\")"
      ],
      "outputs": [
        {
          "output_type": "stream",
          "name": "stdout",
          "text": [
            "Hello, world!\n"
          ]
        }
      ],
      "execution_count": 28,
      "metadata": {
        "execution": {
          "shell.execute_reply": "2021-11-16T05:27:06.838Z",
          "iopub.status.busy": "2021-11-16T05:27:07.091Z",
          "iopub.execute_input": "2021-11-16T05:27:07.101Z",
          "iopub.status.idle": "2021-11-16T05:27:07.116Z"
        }
      }
    },
    {
      "cell_type": "markdown",
      "source": [
        "For the rest of this tutorial, you can execute codeblocks by highlighting them and then hitting Shift+Enter. You can also add your own code into the codeblocks.\n",
        "\n",
        "For those who want to use Python directly on their machines, the typical workflow will be to run Python in an interactive session so that you can repeatedly enter and execute code. This can be done using ipython. You open this program by typing `ipython` into command line. Then directly type your Python commands there. \n",
        "\n",
        "## Printing Output\n",
        "\n",
        "Let's define a variable y and print its value using the `print` statement."
      ],
      "metadata": {}
    },
    {
      "cell_type": "code",
      "source": [
        "y = 2.541\n",
        "print(y)"
      ],
      "outputs": [
        {
          "output_type": "stream",
          "name": "stdout",
          "text": [
            "2.541\n"
          ]
        }
      ],
      "execution_count": 29,
      "metadata": {
        "execution": {
          "shell.execute_reply": "2021-11-16T05:27:06.856Z",
          "iopub.status.busy": "2021-11-16T05:27:07.129Z",
          "iopub.execute_input": "2021-11-16T05:27:07.139Z",
          "iopub.status.idle": "2021-11-16T05:27:07.154Z"
        }
      }
    },
    {
      "cell_type": "markdown",
      "source": [
        "## Strings\n",
        "\n",
        "Strings need to be delimited with quotes. You can use single or double quotes.\n",
        "\n",
        "To concatenate two strings, we use the + operator."
      ],
      "metadata": {}
    },
    {
      "cell_type": "code",
      "source": [
        "directory = '/home/rcf-proj/'\n",
        "user = \"trojan1\"\n",
        "print(directory+user)"
      ],
      "outputs": [
        {
          "output_type": "stream",
          "name": "stdout",
          "text": [
            "/home/rcf-proj/trojan1\n"
          ]
        }
      ],
      "execution_count": 30,
      "metadata": {
        "execution": {
          "shell.execute_reply": "2021-11-16T05:27:06.870Z",
          "iopub.status.busy": "2021-11-16T05:27:07.167Z",
          "iopub.execute_input": "2021-11-16T05:27:07.177Z",
          "iopub.status.idle": "2021-11-16T05:27:07.192Z"
        }
      }
    },
    {
      "cell_type": "markdown",
      "source": [
        "## Basic Math Operations"
      ],
      "metadata": {}
    },
    {
      "cell_type": "code",
      "source": [
        "x = 3\n",
        "print(x + 1)\n",
        "print(x - 1)\n",
        "print(x * 2)\n",
        "print(x / 2)\n",
        "print(x ** 2) # exponentiation"
      ],
      "outputs": [
        {
          "output_type": "stream",
          "name": "stdout",
          "text": [
            "4\n",
            "2\n",
            "6\n",
            "1.5\n",
            "9\n"
          ]
        }
      ],
      "execution_count": 31,
      "metadata": {
        "execution": {
          "shell.execute_reply": "2021-11-16T05:27:06.880Z",
          "iopub.status.busy": "2021-11-16T05:27:07.206Z",
          "iopub.execute_input": "2021-11-16T05:27:07.217Z",
          "iopub.status.idle": "2021-11-16T05:27:07.232Z"
        }
      }
    },
    {
      "cell_type": "markdown",
      "source": [
        "**Exercise:** redefine x to be its current value plus one. Print it."
      ],
      "metadata": {}
    },
    {
      "cell_type": "code",
      "source": [],
      "outputs": [],
      "execution_count": null,
      "metadata": {}
    },
    {
      "cell_type": "markdown",
      "source": [
        "Some convenient syntax:"
      ],
      "metadata": {}
    },
    {
      "cell_type": "code",
      "source": [
        "print(x)\n",
        "x += 1\n",
        "print(x)\n",
        "x -= 1\n",
        "print(x)\n",
        "x *= 2\n",
        "print(x)\n",
        "x /= 2\n",
        "print(x)\n",
        "x **= 2\n",
        "print(x)"
      ],
      "outputs": [
        {
          "output_type": "stream",
          "name": "stdout",
          "text": [
            "3\n",
            "4\n",
            "3\n",
            "6\n",
            "3.0\n",
            "9.0\n"
          ]
        }
      ],
      "execution_count": 32,
      "metadata": {
        "execution": {
          "shell.execute_reply": "2021-11-16T05:27:06.890Z",
          "iopub.status.busy": "2021-11-16T05:27:07.248Z",
          "iopub.execute_input": "2021-11-16T05:27:07.257Z",
          "iopub.status.idle": "2021-11-16T05:27:07.272Z"
        }
      }
    },
    {
      "cell_type": "markdown",
      "source": [
        "## Lists\n",
        "\n",
        "A Python list is a container, an object use to store collections of other objects."
      ],
      "metadata": {}
    },
    {
      "cell_type": "code",
      "source": [
        "MyList = [1,2,3]\n",
        "print(MyList)"
      ],
      "outputs": [
        {
          "output_type": "stream",
          "name": "stdout",
          "text": [
            "[1, 2, 3]\n"
          ]
        }
      ],
      "execution_count": 33,
      "metadata": {
        "execution": {
          "shell.execute_reply": "2021-11-16T05:27:06.902Z",
          "iopub.status.busy": "2021-11-16T05:27:07.286Z",
          "iopub.execute_input": "2021-11-16T05:27:07.296Z",
          "iopub.status.idle": "2021-11-16T05:27:07.311Z"
        }
      }
    },
    {
      "cell_type": "markdown",
      "source": [
        "A very useful function is the `range()` function, which can be used generate a list of integers as follows."
      ],
      "metadata": {}
    },
    {
      "cell_type": "code",
      "source": [
        "MyList = list(range(3))\n",
        "print(MyList)"
      ],
      "outputs": [
        {
          "output_type": "stream",
          "name": "stdout",
          "text": [
            "[0, 1, 2]\n"
          ]
        }
      ],
      "execution_count": 34,
      "metadata": {
        "execution": {
          "shell.execute_reply": "2021-11-16T05:27:06.926Z",
          "iopub.status.busy": "2021-11-16T05:27:07.325Z",
          "iopub.execute_input": "2021-11-16T05:27:07.334Z",
          "iopub.status.idle": "2021-11-16T05:27:07.349Z"
        }
      }
    },
    {
      "cell_type": "markdown",
      "source": [
        "Note that Python is a **zero-indexed** language. That basically means everything starts at 0 rather than 1, including range."
      ],
      "metadata": {}
    },
    {
      "cell_type": "code",
      "source": [
        "print(len(MyList)) # outputs length of a list"
      ],
      "outputs": [
        {
          "output_type": "stream",
          "name": "stdout",
          "text": [
            "3\n"
          ]
        }
      ],
      "execution_count": 35,
      "metadata": {
        "execution": {
          "shell.execute_reply": "2021-11-16T05:27:06.935Z",
          "iopub.status.busy": "2021-11-16T05:27:07.362Z",
          "iopub.execute_input": "2021-11-16T05:27:07.371Z",
          "iopub.status.idle": "2021-11-16T05:27:07.386Z"
        }
      }
    },
    {
      "cell_type": "markdown",
      "source": [
        "The general syntax for `range()` is `range(start,stop,step)`, where start and step are optional."
      ],
      "metadata": {}
    },
    {
      "cell_type": "code",
      "source": [
        "print(list(range(0,3,1)))\n",
        "print(list(range(0,5,2)))\n",
        "print(list(range(5,-1,-1)))"
      ],
      "outputs": [
        {
          "output_type": "stream",
          "name": "stdout",
          "text": [
            "[0, 1, 2]\n",
            "[0, 2, 4]\n",
            "[5, 4, 3, 2, 1, 0]\n"
          ]
        }
      ],
      "execution_count": 36,
      "metadata": {
        "execution": {
          "shell.execute_reply": "2021-11-16T05:27:06.946Z",
          "iopub.status.busy": "2021-11-16T05:27:07.398Z",
          "iopub.execute_input": "2021-11-16T05:27:07.406Z",
          "iopub.status.idle": "2021-11-16T05:27:07.418Z"
        }
      }
    },
    {
      "cell_type": "markdown",
      "source": [
        "**Exercise:** Define a new list equal to `[0, 2, 4, ..., 2*a]` where a is the current length of MyList. Use the commands just learned; do not hard-code the actual current length of MyList."
      ],
      "metadata": {}
    },
    {
      "cell_type": "code",
      "source": [],
      "outputs": [],
      "execution_count": null,
      "metadata": {}
    },
    {
      "cell_type": "markdown",
      "source": [
        "Lists are **not** vectors. For one, they can contain types other than ints and floats."
      ],
      "metadata": {}
    },
    {
      "cell_type": "code",
      "source": [
        "MyList = list(range(3))\n",
        "MyList.append('what are you looking at?')\n",
        "print(MyList)"
      ],
      "outputs": [
        {
          "output_type": "stream",
          "name": "stdout",
          "text": [
            "[0, 1, 2, 'what are you looking at?']\n"
          ]
        }
      ],
      "execution_count": 37,
      "metadata": {
        "execution": {
          "shell.execute_reply": "2021-11-16T05:27:06.955Z",
          "iopub.status.busy": "2021-11-16T05:27:07.429Z",
          "iopub.execute_input": "2021-11-16T05:27:07.437Z",
          "iopub.status.idle": "2021-11-16T05:27:07.448Z"
        }
      }
    },
    {
      "cell_type": "markdown",
      "source": [
        "In fact you can have lists of lists.\n",
        "\n",
        "What you'll probably end up doing most with lists is storing stuff in them and then slicing them (grabbing subsets of them)."
      ],
      "metadata": {}
    },
    {
      "cell_type": "code",
      "source": [
        "MyList = list(range(3))\n",
        "print(MyList)\n",
        "\n",
        "# print first and second elements\n",
        "print(MyList[0:2]) # remember zero indexing\n",
        "\n",
        "# print all but the zeroth element\n",
        "print(MyList[1:])\n",
        "\n",
        "# redefine the first and second elements\n",
        "MyList[0:2] = [9,10]\n",
        "print(MyList)"
      ],
      "outputs": [
        {
          "output_type": "stream",
          "name": "stdout",
          "text": [
            "[0, 1, 2]\n",
            "[0, 1]\n",
            "[1, 2]\n",
            "[9, 10, 2]\n"
          ]
        }
      ],
      "execution_count": 38,
      "metadata": {
        "execution": {
          "shell.execute_reply": "2021-11-16T05:27:06.965Z",
          "iopub.status.busy": "2021-11-16T05:27:07.458Z",
          "iopub.execute_input": "2021-11-16T05:27:07.465Z",
          "iopub.status.idle": "2021-11-16T05:27:07.477Z"
        }
      }
    },
    {
      "cell_type": "markdown",
      "source": [
        "One more thing about the print command. Thanks to f-strings, there's a convenient syntax for inserting variables into the middle of the statement you want to print. Note that the `f` at the start of the last `print` statement is crucial."
      ],
      "metadata": {}
    },
    {
      "cell_type": "code",
      "source": [
        "MyList = list(range(3))\n",
        "# print the first and third elements of MyList\n",
        "print(f'The first element of MyList is {MyList[0]}.\\nThe third element is {MyList[2]}')"
      ],
      "outputs": [
        {
          "output_type": "stream",
          "name": "stdout",
          "text": [
            "The first element of MyList is 0.\n",
            "The third element is 2\n"
          ]
        }
      ],
      "execution_count": 39,
      "metadata": {
        "execution": {
          "shell.execute_reply": "2021-11-16T05:27:06.976Z",
          "iopub.status.busy": "2021-11-16T05:27:07.489Z",
          "iopub.execute_input": "2021-11-16T05:27:07.497Z",
          "iopub.status.idle": "2021-11-16T05:27:07.508Z"
        }
      }
    },
    {
      "cell_type": "markdown",
      "source": [
        "**Exercise:** Define a list of two elements, where the first element is the integer 2, and the second is the string \"Number\". Use this list to print the statement \"Number: 2.\""
      ],
      "metadata": {}
    },
    {
      "cell_type": "code",
      "source": [],
      "outputs": [],
      "execution_count": null,
      "metadata": {}
    },
    {
      "cell_type": "markdown",
      "source": [
        "## Conditionals\n",
        "\n",
        "If-else statements require four-space indentation. This will be the same when using for loops and defining functions."
      ],
      "metadata": {}
    },
    {
      "cell_type": "code",
      "source": [
        "x = 3\n",
        "\n",
        "if x==3:\n",
        "    print(\"Yes\")\n",
        "else:\n",
        "    print(\"No\")"
      ],
      "outputs": [
        {
          "output_type": "stream",
          "name": "stdout",
          "text": [
            "Yes\n"
          ]
        }
      ],
      "execution_count": 40,
      "metadata": {
        "execution": {
          "shell.execute_reply": "2021-11-16T05:27:06.985Z",
          "iopub.status.busy": "2021-11-16T05:27:07.519Z",
          "iopub.execute_input": "2021-11-16T05:27:07.526Z",
          "iopub.status.idle": "2021-11-16T05:27:07.537Z"
        }
      }
    },
    {
      "cell_type": "markdown",
      "source": [
        "What's really going on is `x==3` returns a boolean, which in this case is equal to True. When the condition is true, then the if statement executes.\n",
        "\n",
        "Note that, as in most other programming languages, we use `==` to obtain a boolean (True/False variable). In contrast, a single `=` is used to set the value of a variable."
      ],
      "metadata": {}
    },
    {
      "cell_type": "code",
      "source": [
        "y = x==3\n",
        "print(y)\n",
        "    \n",
        "z = False\n",
        "\n",
        "if z:\n",
        "    print(\"Yes\")\n",
        "else:\n",
        "    print(\"No\")"
      ],
      "outputs": [
        {
          "output_type": "stream",
          "name": "stdout",
          "text": [
            "True\n",
            "No\n"
          ]
        }
      ],
      "execution_count": 41,
      "metadata": {
        "execution": {
          "shell.execute_reply": "2021-11-16T05:27:06.995Z",
          "iopub.status.busy": "2021-11-16T05:27:07.549Z",
          "iopub.execute_input": "2021-11-16T05:27:07.556Z",
          "iopub.status.idle": "2021-11-16T05:27:07.567Z"
        }
      }
    },
    {
      "cell_type": "markdown",
      "source": [
        "Here are some other examples:"
      ],
      "metadata": {}
    },
    {
      "cell_type": "code",
      "source": [
        "print(f\"x={x}, y={y}\")\n",
        "\n",
        "if x==3 and y==0: print(\"Both\") # no need to indent if you just have \n",
        "                                # one line following the if statement\n",
        "if x==3 or y==1: print(\"One\")\n",
        "\n",
        "if x!=4: print(\"Not\")\n",
        "    \n",
        "if not y==1: print(\"Also not\")"
      ],
      "outputs": [
        {
          "output_type": "stream",
          "name": "stdout",
          "text": [
            "x=3, y=True\n",
            "One\n",
            "Not\n"
          ]
        }
      ],
      "execution_count": 42,
      "metadata": {
        "execution": {
          "shell.execute_reply": "2021-11-16T05:27:07.005Z",
          "iopub.status.busy": "2021-11-16T05:27:07.577Z",
          "iopub.execute_input": "2021-11-16T05:27:07.583Z",
          "iopub.status.idle": "2021-11-16T05:27:07.594Z"
        }
      }
    },
    {
      "cell_type": "markdown",
      "source": [
        "**Exercise:** define a variable `y` to be equal to 1 if `x` equals 4, otherwise y equals 0."
      ],
      "metadata": {}
    },
    {
      "cell_type": "code",
      "source": [],
      "outputs": [],
      "execution_count": null,
      "metadata": {}
    },
    {
      "cell_type": "markdown",
      "source": [
        "We use `else if`, which can be shortened to `elif` to expand the number of cases."
      ],
      "metadata": {}
    },
    {
      "cell_type": "code",
      "source": [
        "x = 3\n",
        "\n",
        "if x==1:\n",
        "    y = 'a'\n",
        "elif x==2:\n",
        "    y = 'b'\n",
        "else:\n",
        "    y = 'c'\n",
        "\n",
        "print(y)"
      ],
      "outputs": [
        {
          "output_type": "stream",
          "name": "stdout",
          "text": [
            "c\n"
          ]
        }
      ],
      "execution_count": 43,
      "metadata": {
        "execution": {
          "shell.execute_reply": "2021-11-16T05:27:07.016Z",
          "iopub.status.busy": "2021-11-16T05:27:07.605Z",
          "iopub.execute_input": "2021-11-16T05:27:07.612Z",
          "iopub.status.idle": "2021-11-16T05:27:07.623Z"
        }
      }
    },
    {
      "cell_type": "markdown",
      "source": [
        "## For Loops\n",
        "\n",
        "This is the typical syntax for a for-loop. Note the four-space indent."
      ],
      "metadata": {}
    },
    {
      "cell_type": "code",
      "source": [
        "for i in range(3):\n",
        "    print(i)"
      ],
      "outputs": [
        {
          "output_type": "stream",
          "name": "stdout",
          "text": [
            "0\n",
            "1\n",
            "2\n"
          ]
        }
      ],
      "execution_count": 44,
      "metadata": {
        "execution": {
          "shell.execute_reply": "2021-11-16T05:27:07.025Z",
          "iopub.status.busy": "2021-11-16T05:27:07.633Z",
          "iopub.execute_input": "2021-11-16T05:27:07.639Z",
          "iopub.status.idle": "2021-11-16T05:27:07.651Z"
        }
      }
    },
    {
      "cell_type": "markdown",
      "source": [
        "A for loop doesn't have to iterate over integers."
      ],
      "metadata": {}
    },
    {
      "cell_type": "code",
      "source": [
        "MyList = ['a','b','c']\n",
        "\n",
        "for i in MyList:\n",
        "    print(i)"
      ],
      "outputs": [
        {
          "output_type": "stream",
          "name": "stdout",
          "text": [
            "a\n",
            "b\n",
            "c\n"
          ]
        }
      ],
      "execution_count": 45,
      "metadata": {
        "execution": {
          "shell.execute_reply": "2021-11-16T05:27:07.035Z",
          "iopub.status.busy": "2021-11-16T05:27:07.661Z",
          "iopub.execute_input": "2021-11-16T05:27:07.667Z",
          "iopub.status.idle": "2021-11-16T05:27:07.678Z"
        }
      }
    },
    {
      "cell_type": "markdown",
      "source": [
        "**Exercise:** Define `MyList = ['a','b','c']`. Write a for-loop that for each element i of `MyList` prints `\"i: MyList[i]\"`."
      ],
      "metadata": {}
    },
    {
      "cell_type": "code",
      "source": [],
      "outputs": [],
      "execution_count": null,
      "metadata": {}
    },
    {
      "cell_type": "markdown",
      "source": [
        "The `enumerate()` function is very convenient."
      ],
      "metadata": {}
    },
    {
      "cell_type": "code",
      "source": [
        "for i,x in enumerate(MyList):\n",
        "    print(f\"{i}: {x}\")"
      ],
      "outputs": [
        {
          "output_type": "stream",
          "name": "stdout",
          "text": [
            "0: a\n",
            "1: b\n",
            "2: c\n"
          ]
        }
      ],
      "execution_count": 51,
      "metadata": {
        "execution": {
          "shell.execute_reply": "2021-11-16T05:27:51.548Z",
          "iopub.status.busy": "2021-11-16T05:27:51.508Z",
          "iopub.execute_input": "2021-11-16T05:27:51.518Z",
          "iopub.status.idle": "2021-11-16T05:27:51.538Z"
        }
      }
    },
    {
      "cell_type": "markdown",
      "source": [
        "**Exercise:** Define `MyList` to be a list of five consecutive integers starting at 0. Construct a new list whose elements are equal to the square of the respective element of `MyList`. Note: you initialize an empty list as follows: `MyNewList = []`."
      ],
      "metadata": {}
    },
    {
      "cell_type": "code",
      "source": [],
      "outputs": [],
      "execution_count": null,
      "metadata": {}
    },
    {
      "cell_type": "markdown",
      "source": [
        "A cool aspect of Python is something called list comprehension."
      ],
      "metadata": {}
    },
    {
      "cell_type": "code",
      "source": [
        "MyList = list(range(3))\n",
        "print(MyList)\n",
        "\n",
        "ListShortcut = [5+i for i in MyList]\n",
        "print(ListShortcut)\n",
        "\n",
        "# What if I want the same thing but excluding the odd elements of MyList?\n",
        "print([5+i for i in MyList if i%2==0])\n",
        "# the operator % is the 'modulo operator' that returns remainders"
      ],
      "outputs": [
        {
          "output_type": "stream",
          "name": "stdout",
          "text": [
            "[0, 1, 2]\n",
            "[5, 6, 7]\n",
            "[5, 7]\n"
          ]
        }
      ],
      "execution_count": 54,
      "metadata": {
        "execution": {
          "shell.execute_reply": "2021-11-16T05:29:03.545Z",
          "iopub.status.busy": "2021-11-16T05:29:03.499Z",
          "iopub.execute_input": "2021-11-16T05:29:03.512Z",
          "iopub.status.idle": "2021-11-16T05:29:03.537Z"
        }
      }
    },
    {
      "cell_type": "markdown",
      "source": [
        "## Functions\n",
        "\n",
        "This is the syntax for defining a function. Again, note the four-space indent."
      ],
      "metadata": {}
    },
    {
      "cell_type": "code",
      "source": [
        "def CubeIt(x):\n",
        "    return x**3\n",
        "\n",
        "x = 2\n",
        "print(CubeIt(x))"
      ],
      "outputs": [],
      "execution_count": 48,
      "metadata": {
        "execution": {
          "shell.execute_reply": "2021-11-16T05:27:07.065Z"
        }
      }
    },
    {
      "cell_type": "markdown",
      "source": [
        "Often you will want to create a separate file only containing functions, which you will then import into your main file that you want to execute. You can do so as follows.\n",
        "\n",
        "1. Open your system text editor. Use it to create a new Python file called `functions.py` and paste the code for CubeIt above. (In Windows, you can use notepad. In MacOS, you can use TextEdit. Click Format --> Make Plain Text before saving as `functions.py`.)\n",
        "\n",
        "2. To use this file from this notebook within nteract, move functions.py to the same working directory as this notebook file. Then execute the following:"
      ],
      "metadata": {}
    },
    {
      "cell_type": "code",
      "source": [
        "from functions import * # lets you use all functions inside functions.py\n",
        "print(CubeIt(2))"
      ],
      "outputs": [],
      "execution_count": 49,
      "metadata": {
        "inputHidden": false,
        "outputHidden": false,
        "execution": {
          "shell.execute_reply": "2021-11-16T05:27:07.076Z"
        }
      }
    },
    {
      "cell_type": "markdown",
      "source": [
        "In practice you are often saving all your main code to some python file, e.g. `main.py`, so you would include the lines above in `main.py` instead and then run `python main.py` in command line to execute."
      ],
      "metadata": {}
    }
  ],
  "metadata": {
    "kernel_info": {
      "name": "python3"
    },
    "kernelspec": {
      "display_name": "Python 3",
      "language": "python",
      "name": "python3"
    },
    "language_info": {
      "name": "python",
      "version": "3.9.6",
      "mimetype": "text/x-python",
      "codemirror_mode": {
        "name": "ipython",
        "version": 3
      },
      "pygments_lexer": "ipython3",
      "nbconvert_exporter": "python",
      "file_extension": ".py"
    },
    "nteract": {
      "version": "0.28.0"
    }
  },
  "nbformat": 4,
  "nbformat_minor": 2
}