{
 "cells": [
  {
   "cell_type": "markdown",
   "metadata": {},
   "source": [
    "# Analyzing Network Data with networkx\n",
    "\n",
    "For documentation and the developer's tutorial, see [here](https://networkx.github.io/documentation/stable/)."
   ]
  },
  {
   "cell_type": "code",
   "execution_count": null,
   "metadata": {},
   "outputs": [],
   "source": [
    "import numpy as np\n",
    "import networkx as nx\n",
    "\n",
    "G = nx.Graph() # initialize empty graph\n",
    "\n",
    "# construct intransitive triad\n",
    "G.add_node(0) # add a node labeled '0'\n",
    "G.add_nodes_from([1,2]) # add two more nodes, respectively labeled '1' and '2'\n",
    "G.add_edges_from([[0, 1], [0, 2]]) # add edges 01 and 02"
   ]
  },
  {
   "cell_type": "markdown",
   "metadata": {},
   "source": [
    "Let's check that we did, indeed, construct an intransitive triad."
   ]
  },
  {
   "cell_type": "code",
   "execution_count": null,
   "metadata": {},
   "outputs": [],
   "source": [
    "print(G.has_edge(0,1))\n",
    "print(G.has_edge(0,2))\n",
    "print(G.has_edge(1,2))\n",
    "print(\"{} nodes, {} edges\".format(G.number_of_nodes(), G.number_of_edges()))"
   ]
  },
  {
   "cell_type": "code",
   "execution_count": null,
   "metadata": {},
   "outputs": [],
   "source": [
    "print(G.nodes)\n",
    "print(G.edges)"
   ]
  },
  {
   "cell_type": "markdown",
   "metadata": {},
   "source": [
    "${\\tt G.degree[0]}$ outputs the degree of node 0.\n",
    "\n",
    "**Exercise:** create a numpy array of node degrees, one for each node. Try to do this in just one line (recall list comprehensions). Then output the mean, stdev, min, and max degrees."
   ]
  },
  {
   "cell_type": "code",
   "execution_count": null,
   "metadata": {},
   "outputs": [],
   "source": []
  },
  {
   "cell_type": "code",
   "execution_count": null,
   "metadata": {},
   "outputs": [],
   "source": [
    "# deleting nodes\n",
    "G.remove_node(0)\n",
    "print(\"{} nodes, {} edges\".format(G.number_of_nodes(), G.number_of_edges()))"
   ]
  },
  {
   "cell_type": "markdown",
   "metadata": {},
   "source": [
    "There are many functions available for generating random graphs. The most basic one, which generates an Erdos-Renyi graph, is as follows:"
   ]
  },
  {
   "cell_type": "code",
   "execution_count": null,
   "metadata": {
    "scrolled": true
   },
   "outputs": [],
   "source": [
    "# random graph with n nodes and m links\n",
    "n = 100\n",
    "m = 70\n",
    "ER = nx.gnm_random_graph(n, m)\n",
    "\n",
    "print(\"{} nodes, {} edges\".format(ER.number_of_nodes(), ER.number_of_edges()))"
   ]
  },
  {
   "cell_type": "markdown",
   "metadata": {},
   "source": [
    "## Saving and Loading\n",
    "\n",
    "A good format for saving network data is adjlist. "
   ]
  },
  {
   "cell_type": "code",
   "execution_count": null,
   "metadata": {},
   "outputs": [],
   "source": [
    "nx.write_adjlist(ER, \"test.adjlist\")\n",
    "ER2 = nx.read_adjlist(\"test.adjlist\")\n",
    "print(\"{} nodes, {} edges\".format(ER2.number_of_nodes(), ER2.number_of_edges()))"
   ]
  },
  {
   "cell_type": "markdown",
   "metadata": {},
   "source": [
    "If you have node or edge data, you can use graphml instead, but this produces bigger files. Also, the Gephi visualization program doesn't read adjlist files, so you'll need to export as graphml or edgelist. Edgelist is the most compact file format, consisting of only a list of dyads, but this means dropping all isolates. "
   ]
  },
  {
   "cell_type": "code",
   "execution_count": null,
   "metadata": {},
   "outputs": [],
   "source": [
    "nx.write_graphml(ER, \"test.graphml\")\n",
    "ER2 = nx.read_graphml(\"test.graphml\")\n",
    "print(\"{} nodes, {} edges\".format(ER2.number_of_nodes(), ER2.number_of_edges()))\n",
    "\n",
    "nx.write_edgelist(ER, \"test.edgelist\")\n",
    "ER2 = nx.read_edgelist(\"test.edgelist\")\n",
    "print(\"{} nodes, {} edges\".format(ER2.number_of_nodes(), ER2.number_of_edges()))"
   ]
  },
  {
   "cell_type": "markdown",
   "metadata": {},
   "source": [
    "Open test.adjlist in a word processor, and see what the format looks like."
   ]
  },
  {
   "cell_type": "markdown",
   "metadata": {},
   "source": [
    "## Network Statistics\n",
    "\n",
    "Functions for outputting some core summary statistics:"
   ]
  },
  {
   "cell_type": "code",
   "execution_count": null,
   "metadata": {},
   "outputs": [],
   "source": [
    "G = nx.complete_graph(10)\n",
    "G.remove_edges_from([[0,1], [1,2], [2,3]])\n",
    "G.add_nodes_from(range(11,16))\n",
    "\n",
    "# clustering\n",
    "print(\"average clustering: {}\".format(nx.average_clustering(G)))\n",
    "\n",
    "# average degree\n",
    "import numpy as np\n",
    "DegreeList = np.array([G.degree[i] for i in G.nodes])\n",
    "print(\"average degree: {}\".format(DegreeList.mean()))\n",
    "\n",
    "# giant component\n",
    "giant_size = len(max(nx.connected_components(G), key=len))\n",
    "print(\"frac in giant component: {}\".format(giant_size / G.number_of_nodes()))\n",
    "\n",
    "# isolates\n",
    "isolates = list(nx.isolates(G))\n",
    "print(\"{} isolates in G\".format(len(isolates)))\n",
    "\n",
    "# number of components\n",
    "print(\"{} components in G\".format(nx.number_connected_components(G)))"
   ]
  },
  {
   "cell_type": "markdown",
   "metadata": {},
   "source": [
    "**Exercise:** Import the Facebook data from the file ${\\tt facebook.adjlist}$ on Blackboard. Construct a list containing these five statistics for the Facebook graph, and print the list."
   ]
  },
  {
   "cell_type": "code",
   "execution_count": null,
   "metadata": {},
   "outputs": [],
   "source": []
  },
  {
   "cell_type": "markdown",
   "metadata": {},
   "source": [
    "## Degree Distribution\n",
    "\n",
    "Let's plot the degree distribution of an Erdos-Renyi graph on the log-log scale."
   ]
  },
  {
   "cell_type": "code",
   "execution_count": null,
   "metadata": {},
   "outputs": [],
   "source": [
    "%matplotlib inline\n",
    "import matplotlib.pyplot as plt, numpy as np\n",
    "from scipy.stats import relfreq\n",
    "\n",
    "# generate graph\n",
    "n = 5000\n",
    "p = 5/n\n",
    "G = nx.fast_gnp_random_graph(n, p)\n",
    "print(nx.info(G)) # summary statistics"
   ]
  },
  {
   "cell_type": "markdown",
   "metadata": {},
   "source": [
    "**Exercise:** construct a list containing the degree of each node, excluding isolates."
   ]
  },
  {
   "cell_type": "code",
   "execution_count": null,
   "metadata": {},
   "outputs": [],
   "source": []
  },
  {
   "cell_type": "code",
   "execution_count": null,
   "metadata": {},
   "outputs": [],
   "source": [
    "# empirical frequency of degrees\n",
    "EmpDist,lowerlimit,binsize,exceptions = relfreq(degrees, numbins=np.max(degrees))\n",
    "print(np.vstack([np.unique(degrees), EmpDist])) # first row lists unique values of degree\n",
    "                                                # second row lists empirical frequencies"
   ]
  },
  {
   "cell_type": "markdown",
   "metadata": {},
   "source": [
    "To take the log of the elements of an array ${\\tt x}$, use ${\\tt np.log(x)}$. To get the unique elements of an array ${\\tt x}$, use ${\\tt np.unique(x)}$. \n",
    "\n",
    "**Exercise:** To plot degree distribution on log-log plot, want to use ${\\tt plot(x, y, }$'.'${\\tt )}$, where ${\\tt x}$ is log of degrees and ${\\tt y}$ is log of empirical frequencies. Construct ${\\tt x}$ and ${\\tt y}$ and plot them."
   ]
  },
  {
   "cell_type": "code",
   "execution_count": null,
   "metadata": {},
   "outputs": [],
   "source": []
  }
 ],
 "metadata": {
  "kernelspec": {
   "display_name": "Python 2",
   "language": "python",
   "name": "python2"
  },
  "language_info": {
   "codemirror_mode": {
    "name": "ipython",
    "version": 2
   },
   "file_extension": ".py",
   "mimetype": "text/x-python",
   "name": "python",
   "nbconvert_exporter": "python",
   "pygments_lexer": "ipython2",
   "version": "2.7.16"
  }
 },
 "nbformat": 4,
 "nbformat_minor": 2
}
