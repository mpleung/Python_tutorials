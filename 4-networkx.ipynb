{
  "cells": [
    {
      "cell_type": "markdown",
      "source": [
        "# Analyzing Network Data with networkx"
      ],
      "metadata": {}
    },
    {
      "cell_type": "code",
      "source": [
        "import numpy as np\n",
        "import networkx as nx\n",
        "\n",
        "G = nx.Graph() # initialize empty graph\n",
        "\n",
        "# construct intransitive triad\n",
        "G.add_node(0) # add a node labeled '0'\n",
        "G.add_nodes_from([1,2]) # add two more nodes, respectively labeled '1' and '2'\n",
        "G.add_edges_from([[0, 1], [0, 2]]) # add edges 01 and 02"
      ],
      "outputs": [],
      "execution_count": 63,
      "metadata": {
        "execution": {
          "shell.execute_reply": "2021-11-16T05:59:46.469Z",
          "iopub.status.busy": "2021-11-16T05:59:46.446Z",
          "iopub.execute_input": "2021-11-16T05:59:46.452Z",
          "iopub.status.idle": "2021-11-16T05:59:46.461Z"
        }
      }
    },
    {
      "cell_type": "markdown",
      "source": [
        "Let's check that we did, indeed, construct an intransitive triad."
      ],
      "metadata": {}
    },
    {
      "cell_type": "code",
      "source": [
        "print(G.has_edge(0,1))\n",
        "print(G.has_edge(0,2))\n",
        "print(G.has_edge(1,2))\n",
        "print(f\"{G.number_of_nodes()} nodes, {G.number_of_edges()} edges\")"
      ],
      "outputs": [
        {
          "output_type": "stream",
          "name": "stdout",
          "text": [
            "True\n",
            "True\n",
            "False\n",
            "3 nodes, 2 edges\n"
          ]
        }
      ],
      "execution_count": 64,
      "metadata": {
        "execution": {
          "shell.execute_reply": "2021-11-16T05:59:48.805Z",
          "iopub.status.busy": "2021-11-16T05:59:48.779Z",
          "iopub.execute_input": "2021-11-16T05:59:48.787Z",
          "iopub.status.idle": "2021-11-16T05:59:48.799Z"
        }
      }
    },
    {
      "cell_type": "code",
      "source": [
        "print(G.nodes)\n",
        "print(G.edges)"
      ],
      "outputs": [
        {
          "output_type": "stream",
          "name": "stdout",
          "text": [
            "[0, 1, 2]\n",
            "[(0, 1), (0, 2)]\n"
          ]
        }
      ],
      "execution_count": 65,
      "metadata": {
        "execution": {
          "shell.execute_reply": "2021-11-16T05:59:49.856Z",
          "iopub.status.busy": "2021-11-16T05:59:49.829Z",
          "iopub.execute_input": "2021-11-16T05:59:49.837Z",
          "iopub.status.idle": "2021-11-16T05:59:49.850Z"
        }
      }
    },
    {
      "cell_type": "markdown",
      "source": [
        "`G.degree[0]` outputs the degree of node 0.\n",
        "\n",
        "**Exercise:** create a numpy array of node degrees, one for each node. Try to do this in just one line (recall list comprehensions). Then output the mean, stdev, min, and max degrees."
      ],
      "metadata": {}
    },
    {
      "cell_type": "code",
      "source": [],
      "outputs": [],
      "execution_count": null,
      "metadata": {}
    },
    {
      "cell_type": "code",
      "source": [
        "# deleting nodes\n",
        "G.remove_node(0)\n",
        "print(f\"{G.number_of_nodes()} nodes, {G.number_of_edges()} edges\")"
      ],
      "outputs": [
        {
          "output_type": "stream",
          "name": "stdout",
          "text": [
            "2 nodes, 0 edges\n"
          ]
        }
      ],
      "execution_count": 66,
      "metadata": {
        "execution": {
          "shell.execute_reply": "2021-11-16T05:59:52.661Z",
          "iopub.status.busy": "2021-11-16T05:59:52.637Z",
          "iopub.execute_input": "2021-11-16T05:59:52.644Z",
          "iopub.status.idle": "2021-11-16T05:59:52.655Z"
        }
      }
    },
    {
      "cell_type": "markdown",
      "source": [
        "There are many functions available for generating random graphs. The most basic one, which generates an Erdos-Renyi graph, is as follows:"
      ],
      "metadata": {}
    },
    {
      "cell_type": "code",
      "source": [
        "# random graph with n nodes and m links\n",
        "n = 100\n",
        "m = 70\n",
        "ER = nx.gnm_random_graph(n, m)\n",
        "\n",
        "print(f\"{ER.number_of_nodes()} nodes, {ER.number_of_edges()} edges\")"
      ],
      "outputs": [
        {
          "output_type": "stream",
          "name": "stdout",
          "text": [
            "100 nodes, 70 edges\n"
          ]
        }
      ],
      "execution_count": 67,
      "metadata": {
        "scrolled": true,
        "execution": {
          "shell.execute_reply": "2021-11-16T05:59:54.569Z",
          "iopub.status.busy": "2021-11-16T05:59:54.545Z",
          "iopub.execute_input": "2021-11-16T05:59:54.551Z",
          "iopub.status.idle": "2021-11-16T05:59:54.563Z"
        }
      }
    },
    {
      "cell_type": "markdown",
      "source": [
        "## Saving and Loading\n",
        "\n",
        "A good format for saving network data is adjlist. "
      ],
      "metadata": {}
    },
    {
      "cell_type": "code",
      "source": [
        "nx.write_adjlist(ER, \"test.adjlist\")\n",
        "ER2 = nx.read_adjlist(\"test.adjlist\")\n",
        "print(f\"{ER2.number_of_nodes()} nodes, {ER2.number_of_edges()} edges\")"
      ],
      "outputs": [
        {
          "output_type": "stream",
          "name": "stdout",
          "text": [
            "100 nodes, 70 edges\n"
          ]
        }
      ],
      "execution_count": 68,
      "metadata": {
        "execution": {
          "shell.execute_reply": "2021-11-16T05:59:56.256Z",
          "iopub.status.busy": "2021-11-16T05:59:56.231Z",
          "iopub.execute_input": "2021-11-16T05:59:56.237Z",
          "iopub.status.idle": "2021-11-16T05:59:56.250Z"
        }
      }
    },
    {
      "cell_type": "markdown",
      "source": [
        "If you have node or edge data, you can use graphml instead, but this produces bigger files. Also, the Gephi visualization program doesn't read adjlist files, so you'll need to export as graphml or edgelist. Edgelist is the most compact file format, consisting of only a list of dyads, but this means dropping all isolates. "
      ],
      "metadata": {}
    },
    {
      "cell_type": "code",
      "source": [
        "nx.write_graphml(ER, \"test.graphml\")\n",
        "ER2 = nx.read_graphml(\"test.graphml\")\n",
        "print(f\"{ER2.number_of_nodes()} nodes, {ER2.number_of_edges()} edges\")\n",
        "\n",
        "nx.write_edgelist(ER, \"test.edgelist\")\n",
        "ER2 = nx.read_edgelist(\"test.edgelist\")\n",
        "print(f\"{ER2.number_of_nodes()} nodes, {ER2.number_of_edges()} edges\")"
      ],
      "outputs": [
        {
          "output_type": "stream",
          "name": "stdout",
          "text": [
            "100 nodes, 70 edges\n",
            "74 nodes, 70 edges\n"
          ]
        }
      ],
      "execution_count": 69,
      "metadata": {
        "execution": {
          "shell.execute_reply": "2021-11-16T05:59:58.036Z",
          "iopub.status.busy": "2021-11-16T05:59:58.004Z",
          "iopub.execute_input": "2021-11-16T05:59:58.011Z",
          "iopub.status.idle": "2021-11-16T05:59:58.023Z"
        }
      }
    },
    {
      "cell_type": "markdown",
      "source": [
        "Open `test.adjlist` in a word processor, and see what the format looks like."
      ],
      "metadata": {}
    },
    {
      "cell_type": "markdown",
      "source": [
        "## Network Statistics\n",
        "\n",
        "Functions for outputting some core summary statistics:"
      ],
      "metadata": {}
    },
    {
      "cell_type": "code",
      "source": [
        "G = nx.complete_graph(10)\n",
        "G.remove_edges_from([[0,1], [1,2], [2,3]])\n",
        "G.add_nodes_from(range(11,16))\n",
        "\n",
        "# clustering\n",
        "print(f\"average clustering: {nx.average_clustering(G)}\")\n",
        "\n",
        "# average degree\n",
        "import numpy as np\n",
        "DegreeList = np.array([G.degree[i] for i in G.nodes])\n",
        "print(f\"average degree: {DegreeList.mean()}\")\n",
        "\n",
        "# giant component\n",
        "giant_size = len(max(nx.connected_components(G), key=len))\n",
        "print(f\"frac in giant component: {giant_size / G.number_of_nodes()}\")\n",
        "\n",
        "# isolates\n",
        "isolates = list(nx.isolates(G))\n",
        "print(f\"{len(isolates)} isolates in G\")\n",
        "\n",
        "# number of components\n",
        "print(f\"{nx.number_connected_components(G)} components in G\")"
      ],
      "outputs": [
        {
          "output_type": "stream",
          "name": "stdout",
          "text": [
            "average clustering: 0.6285714285714286\n",
            "average degree: 5.6\n",
            "frac in giant component: 0.6666666666666666\n",
            "5 isolates in G\n",
            "6 components in G\n"
          ]
        }
      ],
      "execution_count": 70,
      "metadata": {
        "execution": {
          "shell.execute_reply": "2021-11-16T06:00:00.768Z",
          "iopub.status.busy": "2021-11-16T06:00:00.735Z",
          "iopub.execute_input": "2021-11-16T06:00:00.741Z",
          "iopub.status.idle": "2021-11-16T06:00:00.757Z"
        }
      }
    },
    {
      "cell_type": "markdown",
      "source": [
        "**Exercise:** Import the Facebook data from the file `facebook.adjlist` on Blackboard. Construct a list containing these five statistics for the Facebook graph, and print the list."
      ],
      "metadata": {}
    },
    {
      "cell_type": "code",
      "source": [],
      "outputs": [],
      "execution_count": null,
      "metadata": {}
    },
    {
      "cell_type": "markdown",
      "source": [
        "## Degree Distribution\n",
        "\n",
        "Let's plot the degree distribution of an Erdos-Renyi graph on the log-log scale."
      ],
      "metadata": {}
    },
    {
      "cell_type": "code",
      "source": [
        "%matplotlib inline\n",
        "import matplotlib.pyplot as plt, numpy as np\n",
        "from scipy.stats import relfreq\n",
        "\n",
        "# generate graph\n",
        "n = 5000\n",
        "p = 5/n\n",
        "G = nx.fast_gnp_random_graph(n, p)\n",
        "print(nx.info(G)) # summary statistics"
      ],
      "outputs": [
        {
          "output_type": "stream",
          "name": "stdout",
          "text": [
            "Graph with 5000 nodes and 12482 edges\n"
          ]
        }
      ],
      "execution_count": 71,
      "metadata": {
        "execution": {
          "iopub.status.busy": "2021-11-16T06:00:04.883Z",
          "iopub.execute_input": "2021-11-16T06:00:04.889Z",
          "iopub.status.idle": "2021-11-16T06:00:04.901Z",
          "shell.execute_reply": "2021-11-16T06:00:04.908Z"
        }
      }
    },
    {
      "cell_type": "markdown",
      "source": [
        "**Exercise:** construct a list named *degrees* containing the degree of each node, excluding isolates."
      ],
      "metadata": {}
    },
    {
      "cell_type": "code",
      "source": [],
      "outputs": [],
      "execution_count": null,
      "metadata": {}
    },
    {
      "cell_type": "code",
      "source": [
        "# empirical frequency of degrees\n",
        "EmpDist,lowerlimit,binsize,exceptions = relfreq(degrees, numbins=np.max(degrees))\n",
        "print(np.vstack([np.unique(degrees), EmpDist])) # first row lists unique values of degree\n",
        "                                                # second row lists empirical frequencies"
      ],
      "outputs": [],
      "execution_count": null,
      "metadata": {
        "execution": {
          "iopub.status.busy": "2021-11-16T05:59:21.640Z",
          "iopub.execute_input": "2021-11-16T05:59:21.646Z",
          "shell.execute_reply": "2021-11-16T05:58:24.513Z"
        },
        "jupyter": {
          "outputs_hidden": false
        }
      }
    },
    {
      "cell_type": "markdown",
      "source": [
        "To take the log of the elements of an array `x`, use `np.log(x)`. To get the unique elements of an array `x`, use `np.unique(x)`. \n",
        "\n",
        "**Exercise:** To plot degree distribution on log-log plot, want to use `plot(x, y, '.')`, where `x` is log of degrees and `y` is log of empirical frequencies. Construct `x` and `y` and plot them."
      ],
      "metadata": {}
    },
    {
      "cell_type": "code",
      "source": [],
      "outputs": [],
      "execution_count": null,
      "metadata": {}
    }
  ],
  "metadata": {
    "kernelspec": {
      "display_name": "Python 2",
      "language": "python",
      "name": "python2"
    },
    "language_info": {
      "name": "python",
      "version": "3.9.6",
      "mimetype": "text/x-python",
      "codemirror_mode": {
        "name": "ipython",
        "version": 3
      },
      "pygments_lexer": "ipython3",
      "nbconvert_exporter": "python",
      "file_extension": ".py"
    },
    "nteract": {
      "version": "0.28.0"
    }
  },
  "nbformat": 4,
  "nbformat_minor": 2
}