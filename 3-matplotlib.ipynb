{
 "cells": [
  {
   "cell_type": "markdown",
   "metadata": {},
   "source": [
    "# Plotting Using seaborn and matplotlib\n",
    "\n",
    "matplotlib is the standard graphing module, while seaborn is a high-level interface to matplotlib that simplifies commands. For more on seaborn, see [here](https://elitedatascience.com/python-seaborn-tutorial), [here](https://seaborn.pydata.org/introduction.html), and [here](https://seaborn.pydata.org/tutorial.html)."
   ]
  },
  {
   "cell_type": "code",
   "execution_count": null,
   "metadata": {},
   "outputs": [],
   "source": [
    "import numpy as np\n",
    "import matplotlib.pyplot as plt\n",
    "import seaborn as sns\n",
    "\n",
    "np.random.seed(0)"
   ]
  },
  {
   "cell_type": "markdown",
   "metadata": {},
   "source": [
    "## Histograms"
   ]
  },
  {
   "cell_type": "code",
   "execution_count": null,
   "metadata": {},
   "outputs": [],
   "source": [
    "draws = np.random.normal(size=1000) # simulate data\n",
    "sns.distplot(draws); # the semicolon suppresses some unnecessary output\n",
    "plt.show() # make the plot display"
   ]
  },
  {
   "cell_type": "markdown",
   "metadata": {},
   "source": [
    "## Scatterplots\n",
    "\n",
    "We can use the regplot command to create a scatterplot."
   ]
  },
  {
   "cell_type": "code",
   "execution_count": null,
   "metadata": {},
   "outputs": [],
   "source": [
    "# simulate data\n",
    "X = np.random.exponential(size=100)\n",
    "Y = np.random.exponential(size=100)\n",
    "\n",
    "# scatterplot of Y versus X with points colored according to Z\n",
    "sns.regplot(x=X, y=Y, fit_reg=False);\n",
    "plt.show()"
   ]
  },
  {
   "cell_type": "markdown",
   "metadata": {},
   "source": [
    "Now let's suppose we have an additional variable Z that marks whether an observation is treated or untreated (1 or 0). To color the observations by their Z value, we use the lmplot command. Unlike regplot(), this requires the additional step of formatting the data as a DataFrame."
   ]
  },
  {
   "cell_type": "code",
   "execution_count": null,
   "metadata": {},
   "outputs": [],
   "source": [
    "# simulate Z\n",
    "Z = np.random.binomial(1,0.5,100)\n",
    "\n",
    "import pandas as pd # DataFrame module\n",
    "\n",
    "# create DataFrame consisting of 3 columns containing the Y, X, and Z arrays\n",
    "data = pd.DataFrame(np.vstack([Y,X,Z]).T, columns=['Y','X','Z'])\n",
    "  # np.vstack stacks the horizontal arrays vertically\n",
    "  # then we flip them vertically by transposing using .T\n",
    "\n",
    "data.head() # print first five rows of the dataframe"
   ]
  },
  {
   "cell_type": "markdown",
   "metadata": {},
   "source": [
    "Side note: It might seem kind of annoying to have the additional step of creating a DataFrame with column labels, but often in practice you'll have your dataset stored in the convenient DataFrame format already because you'll read CSV files in using panda's read_csv() command. Also it makes the next step of plotting with seaborn easy:"
   ]
  },
  {
   "cell_type": "code",
   "execution_count": null,
   "metadata": {},
   "outputs": [],
   "source": [
    "# scatterplot of Y versus X with points colored according to Z\n",
    "sns.relplot(x='X', y='Y', data=data, hue='Z');\n",
    "plt.show()"
   ]
  },
  {
   "cell_type": "markdown",
   "metadata": {},
   "source": [
    "We can set custom limits for the axes as follows:"
   ]
  },
  {
   "cell_type": "code",
   "execution_count": null,
   "metadata": {},
   "outputs": [],
   "source": [
    "sns.relplot(x='X', y='Y', data=data, hue='Z');\n",
    "plt.ylim(0, 5)\n",
    "plt.xlim(0, 5)\n",
    "plt.show()"
   ]
  },
  {
   "cell_type": "markdown",
   "metadata": {},
   "source": [
    "At this point it's getting annoying to have to keeping typing plt.show(), so we'll use a 'magic function' specific to Jupyter notebooks to avoid doing this."
   ]
  },
  {
   "cell_type": "code",
   "execution_count": null,
   "metadata": {},
   "outputs": [],
   "source": [
    "%matplotlib inline "
   ]
  },
  {
   "cell_type": "markdown",
   "metadata": {},
   "source": [
    "Finally, to add automatically generated regression lines with CIs, use lmplot instead of relplot."
   ]
  },
  {
   "cell_type": "code",
   "execution_count": null,
   "metadata": {},
   "outputs": [],
   "source": [
    "sns.lmplot(x='X', y='Y', data=data, hue='Z');"
   ]
  },
  {
   "cell_type": "markdown",
   "metadata": {},
   "source": [
    "However, if you want to plot a customized curve overlaying the scatterplot, use a different method discussed in the exercise below."
   ]
  },
  {
   "cell_type": "markdown",
   "metadata": {},
   "source": [
    "## Graphing\n",
    "\n",
    "Let's plot a sin curve using matplotlib's plot function. (This can also be done in seaborn with relplot using the option *kind='line'*, but this requires the extra annoying step of making a DataFrame that we don't need right now.)"
   ]
  },
  {
   "cell_type": "code",
   "execution_count": null,
   "metadata": {},
   "outputs": [],
   "source": [
    "# Compute the x and y coordinates for points on a sine curve\n",
    "x = np.arange(0, 3 * np.pi, 0.1) # grid of points from 0 to 3*pi\n",
    "y = np.sin(x)\n",
    "\n",
    "plt.plot(x, y) # matplotlib command for curve plotting"
   ]
  },
  {
   "cell_type": "markdown",
   "metadata": {},
   "source": [
    "Note: this still has seaborn's nice style. Whenever you want to plot using matplotlib but use seaborn's style, all you have to do is import seaborn.\n",
    "\n",
    "Next, let's plot a sin and cosine curve on the same graph and add some axes labels and a legend."
   ]
  },
  {
   "cell_type": "code",
   "execution_count": null,
   "metadata": {},
   "outputs": [],
   "source": [
    "y_sin = np.sin(x)\n",
    "y_cos = np.cos(x)\n",
    "\n",
    "plt.plot(x, y_sin)\n",
    "plt.plot(x, y_cos)\n",
    "plt.xlabel('x axis label')\n",
    "plt.ylabel('y axis label')\n",
    "plt.title('Sine and Cosine')\n",
    "plt.legend(['Sine', 'Cosine']);"
   ]
  },
  {
   "cell_type": "markdown",
   "metadata": {},
   "source": [
    "## Exercise\n",
    "\n",
    "We'll create a scatterplot and overlay a custom linear regression line rather than using lmplot to do it all."
   ]
  },
  {
   "cell_type": "code",
   "execution_count": null,
   "metadata": {},
   "outputs": [],
   "source": [
    "# simulate linear regression model\n",
    "n = 100\n",
    "X = np.vstack([np.ones(n), np.random.normal(size=n)]).T\n",
    "eps = np.random.normal(size=n)\n",
    "beta = np.array([1, 0.5])\n",
    "Y = X.dot(beta) + eps"
   ]
  },
  {
   "cell_type": "markdown",
   "metadata": {},
   "source": [
    "Create a vector betahat containing the linear regression estimates of Y on X."
   ]
  },
  {
   "cell_type": "code",
   "execution_count": null,
   "metadata": {},
   "outputs": [],
   "source": []
  },
  {
   "cell_type": "markdown",
   "metadata": {},
   "source": [
    "Plot a scatterplot of Y versus the second column of X using plt.scatter(). Overlay a regression line using subplots. Restrict the X axis to (-3,3). Add some axes labels and a title."
   ]
  },
  {
   "cell_type": "code",
   "execution_count": null,
   "metadata": {},
   "outputs": [],
   "source": []
  },
  {
   "cell_type": "markdown",
   "metadata": {},
   "source": [
    "## Multiplots\n",
    "\n",
    "To display two plots adjacent to one another, we use subplot."
   ]
  },
  {
   "cell_type": "code",
   "execution_count": null,
   "metadata": {},
   "outputs": [],
   "source": [
    "x = np.arange(0, 3 * np.pi, 0.1)\n",
    "y_sin = np.sin(x)\n",
    "y_cos = np.cos(x)\n",
    "\n",
    "# Set up a subplot grid that has height 2 and width 1\n",
    "# The last argument sets the first such subplot as active.\n",
    "plt.subplot(2, 1, 1)\n",
    "\n",
    "# Make the first plot\n",
    "plt.plot(x, y_sin)\n",
    "plt.title('Sine')\n",
    "\n",
    "# Set the second subplot as active, and make the second plot.\n",
    "plt.subplot(2, 1, 2)\n",
    "plt.plot(x, y_cos)\n",
    "plt.title('Cosine')\n",
    "\n",
    "# Nice layout. See what happens if you omit this.\n",
    "plt.tight_layout()"
   ]
  },
  {
   "cell_type": "markdown",
   "metadata": {},
   "source": [
    "To save a figure after plotting, use the following command:\n",
    "\n",
    "plt.savefig('fig1.png',bbox\\_inches='tight')\n",
    "\n",
    "Can also save as pdf and other formats."
   ]
  }
 ],
 "metadata": {
  "kernelspec": {
   "display_name": "Python 3",
   "language": "python",
   "name": "python3"
  },
  "language_info": {
   "codemirror_mode": {
    "name": "ipython",
    "version": 2
   },
   "file_extension": ".py",
   "mimetype": "text/x-python",
   "name": "python",
   "nbconvert_exporter": "python",
   "pygments_lexer": "ipython2",
   "version": "2.7.16"
  }
 },
 "nbformat": 4,
 "nbformat_minor": 2
}
